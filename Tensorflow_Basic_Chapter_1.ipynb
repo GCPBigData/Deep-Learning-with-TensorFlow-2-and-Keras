{
  "nbformat": 4,
  "nbformat_minor": 0,
  "metadata": {
    "colab": {
      "name": "Tensorflow Basic Chapter-1.ipynb",
      "provenance": [],
      "authorship_tag": "ABX9TyNwvlMc3uG24inUSIk8fB2F",
      "include_colab_link": true
    },
    "kernelspec": {
      "name": "python3",
      "display_name": "Python 3"
    }
  },
  "cells": [
    {
      "cell_type": "markdown",
      "metadata": {
        "id": "view-in-github",
        "colab_type": "text"
      },
      "source": [
        "<a href=\"https://colab.research.google.com/github/ashishpatel26/Deep-Learning-with-TensorFlow-2-and-Keras/blob/master/Tensorflow_Basic_Chapter_1.ipynb\" target=\"_parent\"><img src=\"https://colab.research.google.com/assets/colab-badge.svg\" alt=\"Open In Colab\"/></a>"
      ]
    },
    {
      "cell_type": "markdown",
      "metadata": {
        "id": "SoL2i7zRbMWh",
        "colab_type": "text"
      },
      "source": [
        "## Basic Perceptron\n"
      ]
    },
    {
      "cell_type": "code",
      "metadata": {
        "id": "TfHf4a3pYsoH",
        "colab_type": "code",
        "colab": {
          "base_uri": "https://localhost:8080/",
          "height": 34
        },
        "outputId": "a0861eb3-aa0c-4376-d2f8-2a393ec28677"
      },
      "source": [
        "import tensorflow as tf\n",
        "print(tf.__version__)"
      ],
      "execution_count": 15,
      "outputs": [
        {
          "output_type": "stream",
          "text": [
            "2.2.0\n"
          ],
          "name": "stdout"
        }
      ]
    },
    {
      "cell_type": "code",
      "metadata": {
        "id": "iolqE0bNY7qN",
        "colab_type": "code",
        "colab": {}
      },
      "source": [
        "W = tf.Variable(tf.ones(shape=(2,2)), name='w')\n",
        "b = tf.Variable(tf.zeros(shape=(2)), name='b')"
      ],
      "execution_count": 16,
      "outputs": []
    },
    {
      "cell_type": "code",
      "metadata": {
        "id": "YUlj2l9OZOAt",
        "colab_type": "code",
        "colab": {}
      },
      "source": [
        "@tf.function\n",
        "def model(x):\n",
        "  return W * x + b"
      ],
      "execution_count": 17,
      "outputs": []
    },
    {
      "cell_type": "code",
      "metadata": {
        "id": "b_4B9SryaIaW",
        "colab_type": "code",
        "colab": {}
      },
      "source": [
        "out_a = model([1, 0])"
      ],
      "execution_count": 18,
      "outputs": []
    },
    {
      "cell_type": "code",
      "metadata": {
        "id": "EDexOSykaL3c",
        "colab_type": "code",
        "colab": {
          "base_uri": "https://localhost:8080/",
          "height": 67
        },
        "outputId": "75488b26-f1e1-4033-b403-84572767b30f"
      },
      "source": [
        "print(out_a)"
      ],
      "execution_count": 19,
      "outputs": [
        {
          "output_type": "stream",
          "text": [
            "tf.Tensor(\n",
            "[[1. 0.]\n",
            " [1. 0.]], shape=(2, 2), dtype=float32)\n"
          ],
          "name": "stdout"
        }
      ]
    },
    {
      "cell_type": "code",
      "metadata": {
        "id": "TEkSfOH8aNhA",
        "colab_type": "code",
        "colab": {}
      },
      "source": [
        ""
      ],
      "execution_count": null,
      "outputs": []
    }
  ]
}